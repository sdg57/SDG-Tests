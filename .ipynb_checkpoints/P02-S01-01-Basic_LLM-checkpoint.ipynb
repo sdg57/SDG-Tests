{
 "cells": [
  {
   "attachments": {},
   "cell_type": "markdown",
   "id": "d9e8eaec-b1ce-4d64-926e-012af3b37b42",
   "metadata": {},
   "source": [
    "# Run a script to interact with chatGPT \n",
    "\n",
    "Now that we have a python environment equipped to communicate with OpenAI, let’s interact with ChatGPT from it! \n",
    "Let's first import the `openai` package."
   ]
  },
  {
   "cell_type": "code",
   "execution_count": 3,
   "id": "37177dc0-00f1-4ea4-be8e-417a963ad0a9",
   "metadata": {},
   "outputs": [],
   "source": [
    "from openai import OpenAI"
   ]
  },
  {
   "cell_type": "markdown",
   "id": "054ad39e-1151-460d-87d9-9ed41f50e792",
   "metadata": {},
   "source": [
    "We are now going to create a `client` object that will be used to connect with OpenAI. We're going to use our OpenAI API key to point toward our OpenAI account and use our credit, the connection will otherwise be refused."
   ]
  },
  {
   "cell_type": "code",
   "execution_count": 4,
   "id": "84bb8b15-e88b-4566-a61b-764485be9167",
   "metadata": {},
   "outputs": [],
   "source": [
    "client = OpenAI(api_key=\"sk-proj-GjIUEqAKI2j04dlC18rZT3BlbkFJnLTC5AeosFLwmSAxKzNU\")"
   ]
  },
  {
   "cell_type": "markdown",
   "id": "e9b73e5d-50ff-4cdb-a017-e2b8a48eac53",
   "metadata": {},
   "source": [
    "If your API key is valid, you should not get any error messages. \n",
    "\n",
    "Next, we are going to use a basic command from the OpenAI command to basically chat with chatGPT3.5-turbo. We'll use chatGPT4 in this class, but the cost of 3.5 is much cheaper, so whenever we don't really need the performance of 4, we'll rely on 3.5. \n",
    "\n",
    "## The system prompt\n",
    "\n",
    "An important difference with how you use chatGPT on your browser is that we'll specify a `system prompt` message.\n",
    "\n",
    "The `system prompt` basically asks chatGPT to adopt a certain role for the following conversation. \n",
    "We specify the system prompt with: `\"role\": \"system\"`. \n",
    "\n",
    "We then send a request using `\"role\": \"user\"`.\n",
    "\n",
    "## Sending our first request\n",
    "\n",
    "Let's ask chatGPT3.5 to answer a message while playing a specifc role, we'll use a standard example here.\n",
    "\n",
    "The **system prompt** is: \"*You are a poetic assistant, skilled in explaining complex programming concepts with creative flair.*\";  \n",
    "And the **message** is: \"*Compose a poem that explains the concept of recursion in programming.*\""
   ]
  },
  {
   "cell_type": "code",
   "execution_count": 7,
   "id": "06dcb55b-2b51-40ac-b552-cb8410ac3967",
   "metadata": {},
   "outputs": [],
   "source": [
    "completion = client.chat.completions.create(\n",
    "  model=\"gpt-4o-mini\",\n",
    "  messages=[\n",
    "    {\"role\": \"system\", \"content\": \"You are a poetic assistant, skilled in explaining complex programming concepts with creative flair.\"},\n",
    "    {\"role\": \"user\", \"content\": \"Compose a poem that explains the concept of recursion in programming.\"}\n",
    "  ]\n",
    ")"
   ]
  },
  {
   "cell_type": "markdown",
   "id": "171dab51-5155-4ce8-82e1-b92d49289ef2",
   "metadata": {},
   "source": [
    "If we don't get any error message, this means that the request went well and that we can now display its result. The result will be stored in the `choices` field of the `completion` object. We can display it using."
   ]
  },
  {
   "cell_type": "code",
   "execution_count": 8,
   "id": "8e84e6b4-029c-41f0-b991-55a0f7f7f4ea",
   "metadata": {},
   "outputs": [
    {
     "name": "stdout",
     "output_type": "stream",
     "text": [
      "ChatCompletionMessage(content='In the realm of code where logic thrives,  \\nA dance of functions, where magic derives,  \\nThere lies a tale of a loop so fine,  \\nA wondrous spiral, both sleek and divine.  \\n\\nRecursion, dear friend, is a mystical call,  \\nWhere functions embrace, and one leads to all.  \\n“Call me again!” they whisper in glee,  \\nAs they dive through the layers, setting minds free.  \\n\\nA function invokes, with a spark of delight,  \\nIt breaks down the problem, shedding its light.  \\n“Base case!” it cries, “The end is in sight!  \\nWhen the simple is reached, all shall be right.”  \\n\\nBut wait! There’s more to this story so grand,  \\nAs the function unwinds, like grains of fine sand.  \\nEach step a reminder of paths we have tread,  \\nReconstructing the answers, with wisdom well-fed.  \\n\\nFibonacci’s numbers, in nature they twine,  \\nA recursive descent, a growth so divine.  \\nFrom zero to one, two follows the dance,  \\nEach call builds upon with a magical chance.  \\n\\nBut beware the deep woods, where infinite lies,  \\nFor without a good base, your function may rise,  \\nInto endless recursion, a stack frame’s regret,  \\nA crash on the shores of a logic upset.  \\n\\nSo harness this power, let it guide your way,  \\nTo solve complex puzzles, both night and day.  \\nWith a flick of the mind, and a recursive embrace,  \\nYou’ll craft wondrous programs, a coder’s true grace.  \\n\\nIn this dance of the intellect, elegant and neat,  \\nRecursion, my friend, is a rhythm so sweet.  \\nA cycle of calls, a beautiful feat,  \\nIn the heart of our code, where all functions meet.', role='assistant', function_call=None, tool_calls=None)\n"
     ]
    }
   ],
   "source": [
    "print(completion.choices[0].message)"
   ]
  },
  {
   "cell_type": "markdown",
   "id": "42586d5c-ecb6-4a33-bad0-136f124f87eb",
   "metadata": {},
   "source": [
    "So we were just able to interact with OpenAI's chatGPT from python! This is the first step necessary to build AI apps that rely on agents!"
   ]
  }
 ],
 "metadata": {
  "kernelspec": {
   "display_name": "Python 3 (ipykernel)",
   "language": "python",
   "name": "python3"
  },
  "language_info": {
   "codemirror_mode": {
    "name": "ipython",
    "version": 3
   },
   "file_extension": ".py",
   "mimetype": "text/x-python",
   "name": "python",
   "nbconvert_exporter": "python",
   "pygments_lexer": "ipython3",
   "version": "3.12.4"
  }
 },
 "nbformat": 4,
 "nbformat_minor": 5
}
